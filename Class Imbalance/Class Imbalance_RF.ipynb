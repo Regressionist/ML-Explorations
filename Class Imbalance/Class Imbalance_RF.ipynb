{
 "cells": [
  {
   "cell_type": "code",
   "execution_count": 1,
   "metadata": {},
   "outputs": [],
   "source": [
    "import pandas as pd\n",
    "from sklearn.ensemble import RandomForestClassifier\n",
    "from sklearn.metrics import log_loss, roc_auc_score\n",
    "import numpy as np\n",
    "import matplotlib.pyplot as plt\n",
    "from tqdm import tqdm\n",
    "import warnings\n",
    "warnings.filterwarnings('ignore')\n",
    "import os"
   ]
  },
  {
   "cell_type": "code",
   "execution_count": 2,
   "metadata": {},
   "outputs": [],
   "source": [
    "data_path = os.path.dirname(os.getcwd())"
   ]
  },
  {
   "cell_type": "code",
   "execution_count": 3,
   "metadata": {},
   "outputs": [
    {
     "data": {
      "text/html": [
       "<div>\n",
       "<style scoped>\n",
       "    .dataframe tbody tr th:only-of-type {\n",
       "        vertical-align: middle;\n",
       "    }\n",
       "\n",
       "    .dataframe tbody tr th {\n",
       "        vertical-align: top;\n",
       "    }\n",
       "\n",
       "    .dataframe thead th {\n",
       "        text-align: right;\n",
       "    }\n",
       "</style>\n",
       "<table border=\"1\" class=\"dataframe\">\n",
       "  <thead>\n",
       "    <tr style=\"text-align: right;\">\n",
       "      <th></th>\n",
       "      <th>Time</th>\n",
       "      <th>V1</th>\n",
       "      <th>V2</th>\n",
       "      <th>V3</th>\n",
       "      <th>V4</th>\n",
       "      <th>V5</th>\n",
       "      <th>V6</th>\n",
       "      <th>V7</th>\n",
       "      <th>V8</th>\n",
       "      <th>V9</th>\n",
       "      <th>...</th>\n",
       "      <th>V21</th>\n",
       "      <th>V22</th>\n",
       "      <th>V23</th>\n",
       "      <th>V24</th>\n",
       "      <th>V25</th>\n",
       "      <th>V26</th>\n",
       "      <th>V27</th>\n",
       "      <th>V28</th>\n",
       "      <th>Amount</th>\n",
       "      <th>Class</th>\n",
       "    </tr>\n",
       "  </thead>\n",
       "  <tbody>\n",
       "    <tr>\n",
       "      <td>0</td>\n",
       "      <td>0.0</td>\n",
       "      <td>-1.359807</td>\n",
       "      <td>-0.072781</td>\n",
       "      <td>2.536347</td>\n",
       "      <td>1.378155</td>\n",
       "      <td>-0.338321</td>\n",
       "      <td>0.462388</td>\n",
       "      <td>0.239599</td>\n",
       "      <td>0.098698</td>\n",
       "      <td>0.363787</td>\n",
       "      <td>...</td>\n",
       "      <td>-0.018307</td>\n",
       "      <td>0.277838</td>\n",
       "      <td>-0.110474</td>\n",
       "      <td>0.066928</td>\n",
       "      <td>0.128539</td>\n",
       "      <td>-0.189115</td>\n",
       "      <td>0.133558</td>\n",
       "      <td>-0.021053</td>\n",
       "      <td>149.62</td>\n",
       "      <td>0</td>\n",
       "    </tr>\n",
       "    <tr>\n",
       "      <td>1</td>\n",
       "      <td>0.0</td>\n",
       "      <td>1.191857</td>\n",
       "      <td>0.266151</td>\n",
       "      <td>0.166480</td>\n",
       "      <td>0.448154</td>\n",
       "      <td>0.060018</td>\n",
       "      <td>-0.082361</td>\n",
       "      <td>-0.078803</td>\n",
       "      <td>0.085102</td>\n",
       "      <td>-0.255425</td>\n",
       "      <td>...</td>\n",
       "      <td>-0.225775</td>\n",
       "      <td>-0.638672</td>\n",
       "      <td>0.101288</td>\n",
       "      <td>-0.339846</td>\n",
       "      <td>0.167170</td>\n",
       "      <td>0.125895</td>\n",
       "      <td>-0.008983</td>\n",
       "      <td>0.014724</td>\n",
       "      <td>2.69</td>\n",
       "      <td>0</td>\n",
       "    </tr>\n",
       "    <tr>\n",
       "      <td>2</td>\n",
       "      <td>1.0</td>\n",
       "      <td>-1.358354</td>\n",
       "      <td>-1.340163</td>\n",
       "      <td>1.773209</td>\n",
       "      <td>0.379780</td>\n",
       "      <td>-0.503198</td>\n",
       "      <td>1.800499</td>\n",
       "      <td>0.791461</td>\n",
       "      <td>0.247676</td>\n",
       "      <td>-1.514654</td>\n",
       "      <td>...</td>\n",
       "      <td>0.247998</td>\n",
       "      <td>0.771679</td>\n",
       "      <td>0.909412</td>\n",
       "      <td>-0.689281</td>\n",
       "      <td>-0.327642</td>\n",
       "      <td>-0.139097</td>\n",
       "      <td>-0.055353</td>\n",
       "      <td>-0.059752</td>\n",
       "      <td>378.66</td>\n",
       "      <td>0</td>\n",
       "    </tr>\n",
       "    <tr>\n",
       "      <td>3</td>\n",
       "      <td>1.0</td>\n",
       "      <td>-0.966272</td>\n",
       "      <td>-0.185226</td>\n",
       "      <td>1.792993</td>\n",
       "      <td>-0.863291</td>\n",
       "      <td>-0.010309</td>\n",
       "      <td>1.247203</td>\n",
       "      <td>0.237609</td>\n",
       "      <td>0.377436</td>\n",
       "      <td>-1.387024</td>\n",
       "      <td>...</td>\n",
       "      <td>-0.108300</td>\n",
       "      <td>0.005274</td>\n",
       "      <td>-0.190321</td>\n",
       "      <td>-1.175575</td>\n",
       "      <td>0.647376</td>\n",
       "      <td>-0.221929</td>\n",
       "      <td>0.062723</td>\n",
       "      <td>0.061458</td>\n",
       "      <td>123.50</td>\n",
       "      <td>0</td>\n",
       "    </tr>\n",
       "    <tr>\n",
       "      <td>4</td>\n",
       "      <td>2.0</td>\n",
       "      <td>-1.158233</td>\n",
       "      <td>0.877737</td>\n",
       "      <td>1.548718</td>\n",
       "      <td>0.403034</td>\n",
       "      <td>-0.407193</td>\n",
       "      <td>0.095921</td>\n",
       "      <td>0.592941</td>\n",
       "      <td>-0.270533</td>\n",
       "      <td>0.817739</td>\n",
       "      <td>...</td>\n",
       "      <td>-0.009431</td>\n",
       "      <td>0.798278</td>\n",
       "      <td>-0.137458</td>\n",
       "      <td>0.141267</td>\n",
       "      <td>-0.206010</td>\n",
       "      <td>0.502292</td>\n",
       "      <td>0.219422</td>\n",
       "      <td>0.215153</td>\n",
       "      <td>69.99</td>\n",
       "      <td>0</td>\n",
       "    </tr>\n",
       "  </tbody>\n",
       "</table>\n",
       "<p>5 rows × 31 columns</p>\n",
       "</div>"
      ],
      "text/plain": [
       "   Time        V1        V2        V3        V4        V5        V6        V7  \\\n",
       "0   0.0 -1.359807 -0.072781  2.536347  1.378155 -0.338321  0.462388  0.239599   \n",
       "1   0.0  1.191857  0.266151  0.166480  0.448154  0.060018 -0.082361 -0.078803   \n",
       "2   1.0 -1.358354 -1.340163  1.773209  0.379780 -0.503198  1.800499  0.791461   \n",
       "3   1.0 -0.966272 -0.185226  1.792993 -0.863291 -0.010309  1.247203  0.237609   \n",
       "4   2.0 -1.158233  0.877737  1.548718  0.403034 -0.407193  0.095921  0.592941   \n",
       "\n",
       "         V8        V9  ...       V21       V22       V23       V24       V25  \\\n",
       "0  0.098698  0.363787  ... -0.018307  0.277838 -0.110474  0.066928  0.128539   \n",
       "1  0.085102 -0.255425  ... -0.225775 -0.638672  0.101288 -0.339846  0.167170   \n",
       "2  0.247676 -1.514654  ...  0.247998  0.771679  0.909412 -0.689281 -0.327642   \n",
       "3  0.377436 -1.387024  ... -0.108300  0.005274 -0.190321 -1.175575  0.647376   \n",
       "4 -0.270533  0.817739  ... -0.009431  0.798278 -0.137458  0.141267 -0.206010   \n",
       "\n",
       "        V26       V27       V28  Amount  Class  \n",
       "0 -0.189115  0.133558 -0.021053  149.62      0  \n",
       "1  0.125895 -0.008983  0.014724    2.69      0  \n",
       "2 -0.139097 -0.055353 -0.059752  378.66      0  \n",
       "3 -0.221929  0.062723  0.061458  123.50      0  \n",
       "4  0.502292  0.219422  0.215153   69.99      0  \n",
       "\n",
       "[5 rows x 31 columns]"
      ]
     },
     "execution_count": 3,
     "metadata": {},
     "output_type": "execute_result"
    }
   ],
   "source": [
    "data = pd.read_csv(data_path+'/Data/Class imbalance/creditcard_csv.csv')\n",
    "data.Class.replace([\"'0'\",\"'1'\"],[0,1],inplace=True)\n",
    "data.head()"
   ]
  },
  {
   "cell_type": "code",
   "execution_count": 4,
   "metadata": {},
   "outputs": [
    {
     "data": {
      "text/plain": [
       "0    284315\n",
       "1       492\n",
       "Name: Class, dtype: int64"
      ]
     },
     "execution_count": 4,
     "metadata": {},
     "output_type": "execute_result"
    }
   ],
   "source": [
    "data.Class.value_counts() #Label counts"
   ]
  },
  {
   "cell_type": "code",
   "execution_count": 5,
   "metadata": {},
   "outputs": [
    {
     "data": {
      "text/plain": [
       "False"
      ]
     },
     "execution_count": 5,
     "metadata": {},
     "output_type": "execute_result"
    }
   ],
   "source": [
    "data.isna().values.any() #Check if any NaN value"
   ]
  },
  {
   "cell_type": "code",
   "execution_count": 6,
   "metadata": {},
   "outputs": [],
   "source": [
    "def sample_normalize_dataset(df, label):\n",
    "    #df_y = df.pop(label)\n",
    "    #df_x = (df-df.mean())/df.std()\n",
    "    np.random.seed(2)\n",
    "    test_indices = np.zeros(52092)\n",
    "    class_1_indices = df[df.Class==1].index.values\n",
    "    test_indices[:92] = np.random.choice(class_1_indices,size=92, replace=False)\n",
    "    class_0_indices = df[df.Class==0].index.values\n",
    "    test_indices[92:] = np.random.choice(class_0_indices,size=52000, replace=False)\n",
    "    \n",
    "    test_df = df.iloc[test_indices]\n",
    "    train_df = df.drop(test_indices)\n",
    "    \n",
    "    train_df_y = train_df.pop(label)\n",
    "    test_df_y = test_df.pop(label)\n",
    "    \n",
    "    mu = train_df.mean()\n",
    "    std_dev = train_df.std()\n",
    "    \n",
    "    train_df_x = (train_df-mu)/std_dev\n",
    "    test_df_x = (test_df-mu)/std_dev\n",
    "    \n",
    "    train_df_x.reset_index(drop=True, inplace=True),\n",
    "    train_df_y.reset_index(drop=True, inplace=True)\n",
    "    test_df_x.reset_index(drop=True, inplace=True) \n",
    "    test_df_y.reset_index(drop=True, inplace=True)\n",
    "            \n",
    "    return train_df_x, train_df_y, test_df_x, test_df_y"
   ]
  },
  {
   "cell_type": "code",
   "execution_count": 7,
   "metadata": {},
   "outputs": [],
   "source": [
    "df_train_x, df_train_y, df_test_x, df_test_y = sample_normalize_dataset(data, \"Class\")"
   ]
  },
  {
   "cell_type": "code",
   "execution_count": 8,
   "metadata": {},
   "outputs": [],
   "source": [
    "def precision(y_true, y_predicted, k):\n",
    "    idx = np.argsort(y_predicted)\n",
    "    #print(y_true[idx[-k:]])\n",
    "    tp = np.sum(y_true[idx[-k:]])\n",
    "    #print(tp)\n",
    "    return tp/k"
   ]
  },
  {
   "cell_type": "code",
   "execution_count": 9,
   "metadata": {},
   "outputs": [],
   "source": [
    "def fit_model(train_X, train_Y, test_X, test_Y, k_precision, weights=None):\n",
    "    auc_scores={}\n",
    "    nll_scores={}\n",
    "    precision_scores={}\n",
    "    n_est = [100, 500]\n",
    "    maximum_depth = [2,5,10]\n",
    "    ms_leaf = [2,5,10]\n",
    "    for n in n_est:\n",
    "        for d in maximum_depth:\n",
    "            for m in ms_leaf:\n",
    "                clf = RandomForestClassifier(n_estimators=n, \n",
    "                                             criterion='entropy',\n",
    "                                             max_depth=d,\n",
    "                                             min_samples_leaf = m,\n",
    "                                             random_state=0).fit(train_X, train_Y)\n",
    "                predicted_Y = clf.predict_proba(test_X)\n",
    "                nll_scores['{},{},{}'.format(n,d,m)] = log_loss(test_Y, predicted_Y[:,1])\n",
    "                auc_scores['{},{},{}'.format(n,d,m)] = roc_auc_score(test_Y, clf.predict(test_X))\n",
    "                precision_scores['{},{},{}'.format(n,d,m)] = precision(test_Y, predicted_Y[:,1], k_precision)\n",
    "    idx = max(auc_scores, key=auc_scores.get)\n",
    "    return auc_scores[idx], nll_scores[idx], precision_scores[idx]"
   ]
  },
  {
   "cell_type": "markdown",
   "metadata": {},
   "source": [
    "### Full dataset"
   ]
  },
  {
   "cell_type": "code",
   "execution_count": null,
   "metadata": {
    "scrolled": true
   },
   "outputs": [],
   "source": [
    "auc_full, nll_full, prec_full = fit_model(df_train_x, df_train_y, df_test_x, df_test_y, 20)"
   ]
  },
  {
   "cell_type": "code",
   "execution_count": null,
   "metadata": {},
   "outputs": [],
   "source": [
    "print('AUC:{} | NLL Loss: {} | Precision@10: {}'.format(auc_full, nll_full, prec_full))"
   ]
  },
  {
   "cell_type": "markdown",
   "metadata": {},
   "source": [
    "### Undersampling "
   ]
  },
  {
   "cell_type": "code",
   "execution_count": 10,
   "metadata": {},
   "outputs": [],
   "source": [
    "def undersample(df_X, df_Y, n_samples):\n",
    "    undersampled_indices=np.zeros(n_samples+400)\n",
    "    class_0_indices = df_Y[df_Y==0].index.values\n",
    "    undersampled_indices[:n_samples] = np.random.choice(class_0_indices,size=n_samples, replace=False)\n",
    "    undersampled_indices[n_samples:] = df_Y[df_Y==1].index.values\n",
    "    undersampled_X = df_X.iloc[undersampled_indices]\n",
    "    undersampled_Y = df_Y.iloc[undersampled_indices]\n",
    "    undersampled_X.reset_index(drop=True, inplace=True)\n",
    "    undersampled_Y.reset_index(drop=True, inplace=True)\n",
    "    \n",
    "    return undersampled_X,undersampled_Y "
   ]
  },
  {
   "cell_type": "code",
   "execution_count": 13,
   "metadata": {},
   "outputs": [],
   "source": [
    "def train_test_model(frac, df_train_x, df_train_y, df_test_x, df_test_y, k, weights=None):\n",
    "    plt.figure(figsize=(12,12))\n",
    "    plt.subplot(211)\n",
    "    ax1 = plt.subplot(3, 1, 1)\n",
    "    ax1.set_xscale('log')\n",
    "    ax1.set_xlabel('Imbalance fraction')\n",
    "    ax1.set_ylabel('NLL')\n",
    "    ax2 = plt.subplot(3, 1, 2)\n",
    "    ax2.set_xscale('log')\n",
    "    ax2.set_xlabel('Imbalance fraction')\n",
    "    ax2.set_ylabel('AUC')\n",
    "    ax3 = plt.subplot(3, 1, 3)\n",
    "    ax3.set_xscale('log')\n",
    "    ax3.set_xlabel('Imbalance fraction')\n",
    "    ax3.set_ylabel('Precision@{}'.format(k))\n",
    "    \n",
    "    n_bootstrap = 10\n",
    "    auc_frac = {}\n",
    "    nll_frac = {}\n",
    "    prec_frac={}\n",
    "    mean_auc_us = []\n",
    "    std_auc_us = []\n",
    "    std_nll_us = []\n",
    "    mean_nll_us = []\n",
    "    std_prec_us = []\n",
    "    mean_prec_us = []\n",
    "    for f in tqdm(frac):\n",
    "        auc_frac[f] = np.zeros(n_bootstrap)\n",
    "        nll_frac[f] = np.zeros(n_bootstrap)\n",
    "        prec_frac[f] = np.zeros(n_bootstrap)\n",
    "        for i in range(n_bootstrap):\n",
    "            df_us_train_x, df_us_train_y = undersample(df_train_x, df_train_y, int(f*400))\n",
    "            auc_us, nll_us, prec_us = fit_model(df_us_train_x, df_us_train_y, df_test_x, df_test_y, k, weights)\n",
    "            auc_frac[f][i] = auc_us\n",
    "            nll_frac[f][i] = nll_us\n",
    "            prec_frac[f][i] = prec_us\n",
    "            \n",
    "        mean_auc_us.append(np.mean(auc_frac[f], axis=0))\n",
    "        std_auc_us.append(np.std(auc_frac[f], axis=0))\n",
    "        mean_nll_us.append(np.mean(nll_frac[f], axis=0))\n",
    "        std_nll_us.append(np.std(nll_frac[f], axis=0))\n",
    "        mean_prec_us.append(np.mean(prec_frac[f], axis=0))\n",
    "        std_prec_us.append(np.std(prec_frac[f], axis=0))\n",
    "        \n",
    "        \n",
    "    ax1.errorbar(frac, mean_nll_us, std_nll_us)\n",
    "        \n",
    "    ax2.errorbar(frac, mean_auc_us, std_auc_us)\n",
    "    \n",
    "    ax3.errorbar(frac, mean_prec_us, std_prec_us)\n",
    "        \n",
    "    plt.show()"
   ]
  },
  {
   "cell_type": "code",
   "execution_count": 14,
   "metadata": {},
   "outputs": [
    {
     "name": "stderr",
     "output_type": "stream",
     "text": [
      "\n",
      "  0%|          | 0/3 [00:00<?, ?it/s]\u001b[A\n",
      " 33%|███▎      | 1/3 [07:57<15:55, 477.74s/it]\u001b[A\n",
      " 67%|██████▋   | 2/3 [24:19<10:28, 628.93s/it]\u001b[A\n",
      "100%|██████████| 3/3 [5:08:24<00:00, 5553.90s/it]\u001b[A"
     ]
    },
    {
     "data": {
      "image/png": "[encoded data removed]",
      "text/plain": [
       "<Figure size 864x864 with 3 Axes>"
      ]
     },
     "metadata": {
      "needs_background": "light"
     },
     "output_type": "display_data"
    }
   ],
   "source": [
    "train_test_model([1,10,100], df_train_x, df_train_y, df_test_x, df_test_y, 20)"
   ]
  },
  {
   "cell_type": "markdown",
   "metadata": {},
   "source": [
    "### Undersampling with weighing undersampled instances to match test distribution "
   ]
  },
  {
   "cell_type": "code",
   "execution_count": 16,
   "metadata": {},
   "outputs": [
    {
     "name": "stderr",
     "output_type": "stream",
     "text": [
      "\n",
      "  0%|          | 0/3 [00:00<?, ?it/s]\u001b[A\n",
      " 33%|███▎      | 1/3 [07:54<15:49, 474.90s/it]\u001b[A\n",
      " 67%|██████▋   | 2/3 [23:59<10:21, 621.95s/it]\u001b[A\n",
      "100%|██████████| 3/3 [2:31:12<00:00, 2725.03s/it]\u001b[A"
     ]
    },
    {
     "data": {
      "image/png": "[encoded data removed]",
      "text/plain": [
       "<Figure size 864x864 with 3 Axes>"
      ]
     },
     "metadata": {
      "needs_background": "light"
     },
     "output_type": "display_data"
    }
   ],
   "source": [
    "w = dict(data.Class.value_counts()/data.shape[0])\n",
    "train_test_model([1,10,100], df_train_x, df_train_y, df_test_x, df_test_y, 20, w)"
   ]
  },
  {
   "cell_type": "code",
   "execution_count": null,
   "metadata": {},
   "outputs": [],
   "source": []
  }
 ],
 "metadata": {
  "kernelspec": {
   "display_name": "Python 3",
   "language": "python",
   "name": "python3"
  },
  "language_info": {
   "codemirror_mode": {
    "name": "ipython",
    "version": 3
   },
   "file_extension": ".py",
   "mimetype": "text/x-python",
   "name": "python",
   "nbconvert_exporter": "python",
   "pygments_lexer": "ipython3",
   "version": "3.6.7"
  }
 },
 "nbformat": 4,
 "nbformat_minor": 2
}
